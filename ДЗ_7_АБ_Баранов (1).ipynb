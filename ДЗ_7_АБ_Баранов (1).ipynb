{
 "cells": [
  {
   "cell_type": "code",
   "execution_count": 20,
   "id": "cba73de3-718b-495d-adfd-6045a5307728",
   "metadata": {},
   "outputs": [
    {
     "data": {
      "text/html": [
       "<div>\n",
       "<style scoped>\n",
       "    .dataframe tbody tr th:only-of-type {\n",
       "        vertical-align: middle;\n",
       "    }\n",
       "\n",
       "    .dataframe tbody tr th {\n",
       "        vertical-align: top;\n",
       "    }\n",
       "\n",
       "    .dataframe thead th {\n",
       "        text-align: right;\n",
       "    }\n",
       "</style>\n",
       "<table border=\"1\" class=\"dataframe\">\n",
       "  <thead>\n",
       "    <tr style=\"text-align: right;\">\n",
       "      <th></th>\n",
       "      <th>uid</th>\n",
       "      <th>Ts</th>\n",
       "      <th>Action</th>\n",
       "    </tr>\n",
       "  </thead>\n",
       "  <tbody>\n",
       "    <tr>\n",
       "      <th>0</th>\n",
       "      <td>cfjqq</td>\n",
       "      <td>2020-01-16 09:24:32</td>\n",
       "      <td>firstOpen</td>\n",
       "    </tr>\n",
       "    <tr>\n",
       "      <th>1</th>\n",
       "      <td>cfjqq</td>\n",
       "      <td>2020-01-16 15:39:41</td>\n",
       "      <td>function2</td>\n",
       "    </tr>\n",
       "    <tr>\n",
       "      <th>2</th>\n",
       "      <td>cfjqq</td>\n",
       "      <td>2020-01-16 15:58:21</td>\n",
       "      <td>function4</td>\n",
       "    </tr>\n",
       "    <tr>\n",
       "      <th>3</th>\n",
       "      <td>hclau</td>\n",
       "      <td>2020-01-10 22:54:42</td>\n",
       "      <td>firstOpen</td>\n",
       "    </tr>\n",
       "    <tr>\n",
       "      <th>4</th>\n",
       "      <td>hclau</td>\n",
       "      <td>2020-01-11 01:19:03</td>\n",
       "      <td>function1</td>\n",
       "    </tr>\n",
       "    <tr>\n",
       "      <th>...</th>\n",
       "      <td>...</td>\n",
       "      <td>...</td>\n",
       "      <td>...</td>\n",
       "    </tr>\n",
       "    <tr>\n",
       "      <th>185184</th>\n",
       "      <td>stlku</td>\n",
       "      <td>2020-01-15 23:34:13</td>\n",
       "      <td>function4</td>\n",
       "    </tr>\n",
       "    <tr>\n",
       "      <th>185185</th>\n",
       "      <td>bueap</td>\n",
       "      <td>2020-01-16 08:08:30</td>\n",
       "      <td>firstOpen</td>\n",
       "    </tr>\n",
       "    <tr>\n",
       "      <th>185186</th>\n",
       "      <td>bueap</td>\n",
       "      <td>2020-01-16 23:28:50</td>\n",
       "      <td>function1</td>\n",
       "    </tr>\n",
       "    <tr>\n",
       "      <th>185187</th>\n",
       "      <td>bueap</td>\n",
       "      <td>2020-01-16 14:53:53</td>\n",
       "      <td>function3</td>\n",
       "    </tr>\n",
       "    <tr>\n",
       "      <th>185188</th>\n",
       "      <td>bueap</td>\n",
       "      <td>2020-01-16 09:36:54</td>\n",
       "      <td>function4</td>\n",
       "    </tr>\n",
       "  </tbody>\n",
       "</table>\n",
       "<p>185189 rows × 3 columns</p>\n",
       "</div>"
      ],
      "text/plain": [
       "          uid                   Ts     Action\n",
       "0       cfjqq  2020-01-16 09:24:32  firstOpen\n",
       "1       cfjqq  2020-01-16 15:39:41  function2\n",
       "2       cfjqq  2020-01-16 15:58:21  function4\n",
       "3       hclau  2020-01-10 22:54:42  firstOpen\n",
       "4       hclau  2020-01-11 01:19:03  function1\n",
       "...       ...                  ...        ...\n",
       "185184  stlku  2020-01-15 23:34:13  function4\n",
       "185185  bueap  2020-01-16 08:08:30  firstOpen\n",
       "185186  bueap  2020-01-16 23:28:50  function1\n",
       "185187  bueap  2020-01-16 14:53:53  function3\n",
       "185188  bueap  2020-01-16 09:36:54  function4\n",
       "\n",
       "[185189 rows x 3 columns]"
      ]
     },
     "execution_count": 20,
     "metadata": {},
     "output_type": "execute_result"
    }
   ],
   "source": [
    "import pandas as pd\n",
    "\n",
    "df_action = pd.read_csv('/Users/vladimirbaranov/Downloads/Action.csv')\n",
    "df_action"
   ]
  },
  {
   "cell_type": "code",
   "execution_count": 50,
   "id": "af478135-3790-41a2-8e8b-63a6c6a6648c",
   "metadata": {},
   "outputs": [
    {
     "data": {
      "text/plain": [
       "Action\n",
       "firstOpen    50001\n",
       "function4    40102\n",
       "function3    40030\n",
       "function2    27585\n",
       "function1    27471\n",
       "Name: count, dtype: int64"
      ]
     },
     "execution_count": 50,
     "metadata": {},
     "output_type": "execute_result"
    }
   ],
   "source": [
    "df_action['Action'].value_counts()"
   ]
  },
  {
   "cell_type": "code",
   "execution_count": 40,
   "id": "7192ff8d-1a8f-4796-80f0-4bfe80e78900",
   "metadata": {},
   "outputs": [
    {
     "data": {
      "text/html": [
       "<div>\n",
       "<style scoped>\n",
       "    .dataframe tbody tr th:only-of-type {\n",
       "        vertical-align: middle;\n",
       "    }\n",
       "\n",
       "    .dataframe tbody tr th {\n",
       "        vertical-align: top;\n",
       "    }\n",
       "\n",
       "    .dataframe thead th {\n",
       "        text-align: right;\n",
       "    }\n",
       "</style>\n",
       "<table border=\"1\" class=\"dataframe\">\n",
       "  <thead>\n",
       "    <tr style=\"text-align: right;\">\n",
       "      <th></th>\n",
       "      <th>Experiment</th>\n",
       "      <th>Group</th>\n",
       "      <th>uid</th>\n",
       "    </tr>\n",
       "  </thead>\n",
       "  <tbody>\n",
       "    <tr>\n",
       "      <th>50001</th>\n",
       "      <td>paymentChange</td>\n",
       "      <td>Old</td>\n",
       "      <td>cfjqq</td>\n",
       "    </tr>\n",
       "    <tr>\n",
       "      <th>50002</th>\n",
       "      <td>paymentChange</td>\n",
       "      <td>Old</td>\n",
       "      <td>hclau</td>\n",
       "    </tr>\n",
       "    <tr>\n",
       "      <th>50003</th>\n",
       "      <td>paymentChange</td>\n",
       "      <td>Old</td>\n",
       "      <td>bkhtq</td>\n",
       "    </tr>\n",
       "    <tr>\n",
       "      <th>50004</th>\n",
       "      <td>paymentChange</td>\n",
       "      <td>Old</td>\n",
       "      <td>rxxdh</td>\n",
       "    </tr>\n",
       "    <tr>\n",
       "      <th>50005</th>\n",
       "      <td>paymentChange</td>\n",
       "      <td>Old</td>\n",
       "      <td>ccsko</td>\n",
       "    </tr>\n",
       "    <tr>\n",
       "      <th>...</th>\n",
       "      <td>...</td>\n",
       "      <td>...</td>\n",
       "      <td>...</td>\n",
       "    </tr>\n",
       "    <tr>\n",
       "      <th>99997</th>\n",
       "      <td>paymentChange</td>\n",
       "      <td>New</td>\n",
       "      <td>xirhh</td>\n",
       "    </tr>\n",
       "    <tr>\n",
       "      <th>99998</th>\n",
       "      <td>paymentChange</td>\n",
       "      <td>New</td>\n",
       "      <td>eqkvn</td>\n",
       "    </tr>\n",
       "    <tr>\n",
       "      <th>99999</th>\n",
       "      <td>paymentChange</td>\n",
       "      <td>New</td>\n",
       "      <td>habsc</td>\n",
       "    </tr>\n",
       "    <tr>\n",
       "      <th>100000</th>\n",
       "      <td>paymentChange</td>\n",
       "      <td>New</td>\n",
       "      <td>jawkx</td>\n",
       "    </tr>\n",
       "    <tr>\n",
       "      <th>100001</th>\n",
       "      <td>paymentChange</td>\n",
       "      <td>New</td>\n",
       "      <td>qdgoa</td>\n",
       "    </tr>\n",
       "  </tbody>\n",
       "</table>\n",
       "<p>50001 rows × 3 columns</p>\n",
       "</div>"
      ],
      "text/plain": [
       "           Experiment Group    uid\n",
       "50001   paymentChange   Old  cfjqq\n",
       "50002   paymentChange   Old  hclau\n",
       "50003   paymentChange   Old  bkhtq\n",
       "50004   paymentChange   Old  rxxdh\n",
       "50005   paymentChange   Old  ccsko\n",
       "...               ...   ...    ...\n",
       "99997   paymentChange   New  xirhh\n",
       "99998   paymentChange   New  eqkvn\n",
       "99999   paymentChange   New  habsc\n",
       "100000  paymentChange   New  jawkx\n",
       "100001  paymentChange   New  qdgoa\n",
       "\n",
       "[50001 rows x 3 columns]"
      ]
     },
     "execution_count": 40,
     "metadata": {},
     "output_type": "execute_result"
    }
   ],
   "source": [
    "df_exp = pd.read_csv('/Users/vladimirbaranov/Downloads/Experiments.csv')\n",
    "df_exp = df_exp[df_exp['Experiment'] == 'paymentChange']\n",
    "df_exp"
   ]
  },
  {
   "cell_type": "code",
   "execution_count": 4,
   "id": "659c5341-8ab6-4056-95ad-933d1e2d80e6",
   "metadata": {},
   "outputs": [
    {
     "data": {
      "text/html": [
       "<div>\n",
       "<style scoped>\n",
       "    .dataframe tbody tr th:only-of-type {\n",
       "        vertical-align: middle;\n",
       "    }\n",
       "\n",
       "    .dataframe tbody tr th {\n",
       "        vertical-align: top;\n",
       "    }\n",
       "\n",
       "    .dataframe thead th {\n",
       "        text-align: right;\n",
       "    }\n",
       "</style>\n",
       "<table border=\"1\" class=\"dataframe\">\n",
       "  <thead>\n",
       "    <tr style=\"text-align: right;\">\n",
       "      <th></th>\n",
       "      <th>uid</th>\n",
       "      <th>paymentType</th>\n",
       "      <th>Payment</th>\n",
       "    </tr>\n",
       "  </thead>\n",
       "  <tbody>\n",
       "    <tr>\n",
       "      <th>0</th>\n",
       "      <td>hclau</td>\n",
       "      <td>type1</td>\n",
       "      <td>400</td>\n",
       "    </tr>\n",
       "    <tr>\n",
       "      <th>1</th>\n",
       "      <td>hclau</td>\n",
       "      <td>type2</td>\n",
       "      <td>200</td>\n",
       "    </tr>\n",
       "    <tr>\n",
       "      <th>2</th>\n",
       "      <td>bkhtq</td>\n",
       "      <td>type2</td>\n",
       "      <td>200</td>\n",
       "    </tr>\n",
       "    <tr>\n",
       "      <th>3</th>\n",
       "      <td>rxxdh</td>\n",
       "      <td>type2</td>\n",
       "      <td>200</td>\n",
       "    </tr>\n",
       "    <tr>\n",
       "      <th>4</th>\n",
       "      <td>qxjhx</td>\n",
       "      <td>type1</td>\n",
       "      <td>400</td>\n",
       "    </tr>\n",
       "    <tr>\n",
       "      <th>...</th>\n",
       "      <td>...</td>\n",
       "      <td>...</td>\n",
       "      <td>...</td>\n",
       "    </tr>\n",
       "    <tr>\n",
       "      <th>36053</th>\n",
       "      <td>hfrqg</td>\n",
       "      <td>type2</td>\n",
       "      <td>200</td>\n",
       "    </tr>\n",
       "    <tr>\n",
       "      <th>36054</th>\n",
       "      <td>kdcrn</td>\n",
       "      <td>type2</td>\n",
       "      <td>200</td>\n",
       "    </tr>\n",
       "    <tr>\n",
       "      <th>36055</th>\n",
       "      <td>pohbf</td>\n",
       "      <td>type2</td>\n",
       "      <td>200</td>\n",
       "    </tr>\n",
       "    <tr>\n",
       "      <th>36056</th>\n",
       "      <td>stlku</td>\n",
       "      <td>type1</td>\n",
       "      <td>160</td>\n",
       "    </tr>\n",
       "    <tr>\n",
       "      <th>36057</th>\n",
       "      <td>bueap</td>\n",
       "      <td>type1</td>\n",
       "      <td>160</td>\n",
       "    </tr>\n",
       "  </tbody>\n",
       "</table>\n",
       "<p>36058 rows × 3 columns</p>\n",
       "</div>"
      ],
      "text/plain": [
       "         uid paymentType  Payment\n",
       "0      hclau       type1      400\n",
       "1      hclau       type2      200\n",
       "2      bkhtq       type2      200\n",
       "3      rxxdh       type2      200\n",
       "4      qxjhx       type1      400\n",
       "...      ...         ...      ...\n",
       "36053  hfrqg       type2      200\n",
       "36054  kdcrn       type2      200\n",
       "36055  pohbf       type2      200\n",
       "36056  stlku       type1      160\n",
       "36057  bueap       type1      160\n",
       "\n",
       "[36058 rows x 3 columns]"
      ]
     },
     "execution_count": 4,
     "metadata": {},
     "output_type": "execute_result"
    }
   ],
   "source": [
    "df_pay = pd.read_csv('/Users/vladimirbaranov/Downloads/Payment.csv')\n",
    "df_pay"
   ]
  },
  {
   "cell_type": "markdown",
   "id": "b3757f19-5c2d-4470-b6d7-855e3b38da75",
   "metadata": {},
   "source": [
    "`Action.csv` - Здесь данные о действиях, которые совершил пользователь в определнное время\n",
    "\n",
    "`Experiments.csv` - Здесь находится информация о тестах проводимых в данное время. Всего их два, нас интересует paymentChange. В том эксперименте пользователи распределены буквально идеально на тест и контроль. Айдишники все уникальные. Юзеров, которые попали в оба эксперимента нету.\n",
    "\n",
    "`Payment.csv` - Здесь данные о транзакциях. Type1 - оплата подписки (160 или 400). Type2 - сторонняя покупка"
   ]
  },
  {
   "cell_type": "code",
   "execution_count": 14,
   "id": "9f4fd6a9-0744-458c-a95f-d1bfe9a9e53a",
   "metadata": {},
   "outputs": [
    {
     "data": {
      "text/plain": [
       "Payment\n",
       "200    18621\n",
       "160    12469\n",
       "400     4968\n",
       "Name: count, dtype: int64"
      ]
     },
     "execution_count": 14,
     "metadata": {},
     "output_type": "execute_result"
    }
   ],
   "source": [
    "df_pay['Payment'].value_counts()"
   ]
  },
  {
   "cell_type": "markdown",
   "id": "34e07eef-3d17-422c-98ea-2792b5949c49",
   "metadata": {},
   "source": [
    "# Сначала выполним ряд проверок наших данных\n",
    "\n",
    "### 1. Проверка корректности сплитования"
   ]
  },
  {
   "cell_type": "code",
   "execution_count": 48,
   "id": "32c218ad-d2ef-4c3d-aa07-09f92dca7bf8",
   "metadata": {},
   "outputs": [
    {
     "data": {
      "text/plain": [
       "Group\n",
       "Old    25001\n",
       "New    25000\n",
       "Name: count, dtype: int64"
      ]
     },
     "execution_count": 48,
     "metadata": {},
     "output_type": "execute_result"
    }
   ],
   "source": [
    "# 1.1 Равномерность по количеству пользователей\n",
    "payment_change_df = df_exp\n",
    "payment_change_df[\"Group\"].value_counts()"
   ]
  },
  {
   "cell_type": "code",
   "execution_count": 49,
   "id": "eeb86a15-8c1c-43b3-9d56-5b06a1ec6ac8",
   "metadata": {},
   "outputs": [
    {
     "name": "stdout",
     "output_type": "stream",
     "text": [
      "Пересекающихся пользователей: 0\n"
     ]
    }
   ],
   "source": [
    "# 1.2 Пересечения между группами\n",
    "grouped = payment_change_df.groupby(\"uid\")[\"Group\"].nunique()\n",
    "crossed_users = grouped[grouped > 1]\n",
    "print(f\"Пересекающихся пользователей: {len(crossed_users)}\")"
   ]
  },
  {
   "cell_type": "code",
   "execution_count": 54,
   "id": "b51176e1-5ca4-4f74-a9c5-311f73e84230",
   "metadata": {},
   "outputs": [
    {
     "name": "stdout",
     "output_type": "stream",
     "text": [
      "Series([], Name: uid, dtype: int64)\n"
     ]
    }
   ],
   "source": [
    "# 1.3 Равномерность по действиям (например, firstOpen)\n",
    "df_action[\"Ts\"] = pd.to_datetime(df_action[\"Ts\"])\n",
    "action_before = df_action[df_action[\"Ts\"] < pd.Timestamp(\"2020-01-09\")]  # дата старта - 2020.01.09\n",
    "app_open = action_before[action_before[\"Action\"] == \"firstOpen\"]\n",
    "app_open = app_open.merge(payment_change_df, on=\"uid\", how=\"inner\")\n",
    "print(app_open.groupby(\"Group\")[\"uid\"].nunique())"
   ]
  },
  {
   "cell_type": "code",
   "execution_count": 55,
   "id": "525cf0fd-7de9-4358-a9f3-e448c3c9d00e",
   "metadata": {},
   "outputs": [
    {
     "name": "stdout",
     "output_type": "stream",
     "text": [
      "Уникальных пользователей:\n",
      " Group\n",
      "New    25000\n",
      "Old    25001\n",
      "Name: uid, dtype: int64\n"
     ]
    }
   ],
   "source": [
    "# 1.4 Проверка уникальности uid в каждой группе\n",
    "print(\"Уникальных пользователей:\\n\", payment_change_df.groupby(\"Group\")[\"uid\"].nunique())"
   ]
  },
  {
   "cell_type": "markdown",
   "id": "b167fa04-2ee6-402e-aa57-813351218097",
   "metadata": {},
   "source": [
    "**Здесь всё хорошо**\n",
    "\n",
    "### 2.Проверяем периоды и даты"
   ]
  },
  {
   "cell_type": "code",
   "execution_count": 56,
   "id": "4c534a7b-2ee9-4579-9ea2-09377054d3e4",
   "metadata": {},
   "outputs": [
    {
     "name": "stdout",
     "output_type": "stream",
     "text": [
      "Action timestamps: 2020-01-09 19:00:27 — 2020-01-20 18:50:42\n"
     ]
    }
   ],
   "source": [
    "# 2.1 Диапазон дат в Action\n",
    "print(\"Action timestamps:\", df_action[\"Ts\"].min(), \"—\", df_action[\"Ts\"].max())"
   ]
  },
  {
   "cell_type": "code",
   "execution_count": 57,
   "id": "ea4db24d-3984-4f6a-96a6-51043b3dbe45",
   "metadata": {},
   "outputs": [
    {
     "name": "stdout",
     "output_type": "stream",
     "text": [
      "                      min                 max\n",
      "Group                                        \n",
      "New   2020-01-09 19:01:14 2020-01-20 18:23:02\n",
      "Old   2020-01-09 19:00:27 2020-01-20 18:40:54\n"
     ]
    }
   ],
   "source": [
    "# 2.2 Диапазон дат платежей по группам\n",
    "payment_change_merged = payment_change_df.merge(df_pay, on=\"uid\", how=\"left\")\n",
    "payment_change_merged[\"date\"] = pd.to_datetime(df_action[\"Ts\"], errors=\"coerce\")\n",
    "print(payment_change_merged.groupby(\"Group\")[\"date\"].agg([\"min\", \"max\"]))"
   ]
  },
  {
   "cell_type": "code",
   "execution_count": 58,
   "id": "942e6f19-0cd3-45f4-bbe7-e914fcb493de",
   "metadata": {},
   "outputs": [
    {
     "name": "stdout",
     "output_type": "stream",
     "text": [
      "Пользователей в нескольких экспериментах: 0\n"
     ]
    }
   ],
   "source": [
    "# 2.3 Проверка пересечений uid и с другими экспериментами\n",
    "experiments_per_uid = df_exp.groupby(\"uid\")[\"Experiment\"].nunique()\n",
    "multi_experiments = experiments_per_uid[experiments_per_uid > 1]\n",
    "print(f\"Пользователей в нескольких экспериментах: {len(multi_experiments)}\")"
   ]
  },
  {
   "cell_type": "markdown",
   "id": "221ed83c-31ff-4b0f-962f-5f5e8753308f",
   "metadata": {},
   "source": [
    "**Здесь тоже всё хорошо**\n",
    "\n",
    "### 3.Теперь сделаем проверку распределения данных\n",
    "\n",
    "Решил попробовать отразить распределение с помощью линии :)"
   ]
  },
  {
   "cell_type": "code",
   "execution_count": 60,
   "id": "813deb09-ba14-441f-8838-95727c1feb31",
   "metadata": {},
   "outputs": [
    {
     "data": {
      "image/png": "[encoded data removed]",
      "text/plain": [
       "<Figure size 640x480 with 1 Axes>"
      ]
     },
     "metadata": {},
     "output_type": "display_data"
    }
   ],
   "source": [
    "import matplotlib.pyplot as plt\n",
    "import seaborn as sns\n",
    "\n",
    "# 3.1 Распределение ARPU\n",
    "payment_change_merged[\"Payment\"] = payment_change_merged[\"Payment\"].fillna(0)\n",
    "sns.kdeplot(data=payment_change_merged, x=\"Payment\", hue=\"Group\")\n",
    "plt.title(\"Распределение платежей\")\n",
    "plt.show()"
   ]
  },
  {
   "cell_type": "markdown",
   "id": "75e12e17-f05f-4d27-a74c-589d66f2fda3",
   "metadata": {},
   "source": [
    "Поскольку мы имеем дело с тремя метриками конверсии и все они у нас бинарные, будеим проверять результаты с помощью Z-теста. И того мы будем сравнивать три пары метрик - три теста"
   ]
  },
  {
   "cell_type": "code",
   "execution_count": 68,
   "id": "69a19426-1cec-403a-b24b-87e24fd3e0be",
   "metadata": {},
   "outputs": [
    {
     "name": "stdout",
     "output_type": "stream",
     "text": [
      "\n",
      " Конверсия в подписку\n",
      " Old (до): 4968/25001 = 0.199\n",
      " New (после): 12469/25000 = 0.499\n",
      " z-статистика: -70.392\n",
      " p-value: 0.000\n",
      "Различие статистически значимо\n",
      "\n",
      " Конверсия в разовую покупку\n",
      " Old (до): 9293/25001 = 0.372\n",
      " New (после): 9328/25000 = 0.373\n",
      " z-статистика: -0.327\n",
      " p-value: 0.744\n",
      "Различие не является значимым\n",
      "\n",
      " Конверсия подписчиков в разовую покупку\n",
      " Old (до): 1850/4968 = 0.372\n",
      " New (после): 4678/12469 = 0.375\n",
      " z-статистика: -0.343\n",
      " p-value: 0.731\n",
      "Различие не является значимым\n"
     ]
    }
   ],
   "source": [
    "from statsmodels.stats.proportion import proportions_ztest\n",
    "\n",
    "# Объединение и подготовка\n",
    "merged = payment_change_df.merge(df_pay, on=\"uid\", how=\"left\")\n",
    "merged[\"Payment\"] = merged[\"Payment\"].fillna(0)\n",
    "merged[\"paymentType\"] = merged[\"paymentType\"].fillna(\"none\")\n",
    "\n",
    "pivot = merged.pivot_table(index=\"uid\", columns=\"paymentType\", values=\"Payment\", aggfunc=\"sum\", fill_value=0).reset_index()\n",
    "pivot[\"subscribed\"] = pivot[\"type1\"] > 0\n",
    "pivot[\"purchased\"] = pivot[\"type2\"] > 0\n",
    "pivot = pivot.merge(payment_change_df[[\"uid\", \"Group\"]], on=\"uid\", how=\"left\")\n",
    "\n",
    "def binary_ztest(success1, n1, success2, n2, label):\n",
    "    stat, pval = proportions_ztest([success1, success2], [n1, n2])\n",
    "    conv1 = round(success1 / n1, 3)\n",
    "    conv2 = round(success2 / n2, 3)\n",
    "    \n",
    "    print(f\"\\n {label}\")\n",
    "    print(f\" Old (до): {success1}/{n1} = {conv1}\")\n",
    "    print(f\" New (после): {success2}/{n2} = {conv2}\")\n",
    "    print(f\" z-статистика: {stat:.3f}\")\n",
    "    print(f\" p-value: {pval:.3f}\")\n",
    "    if pval < 0.05:\n",
    "        print(\"Различие статистически значимо\")\n",
    "    else:\n",
    "        print(\"Различие не является значимым\")\n",
    "\n",
    "# Тест 1: Конверсия в подписку\n",
    "s_old = pivot[(pivot[\"Group\"] == \"Old\") & (pivot[\"subscribed\"])].shape[0]\n",
    "n_old = pivot[pivot[\"Group\"] == \"Old\"].shape[0]\n",
    "s_new = pivot[(pivot[\"Group\"] == \"New\") & (pivot[\"subscribed\"])].shape[0]\n",
    "n_new = pivot[pivot[\"Group\"] == \"New\"].shape[0]\n",
    "binary_ztest(s_old, n_old, s_new, n_new, \"Конверсия в подписку\")\n",
    "\n",
    "# Тест 2: Конверсия в разовую покупку\n",
    "s_old = pivot[(pivot[\"Group\"] == \"Old\") & (pivot[\"purchased\"])].shape[0]\n",
    "s_new = pivot[(pivot[\"Group\"] == \"New\") & (pivot[\"purchased\"])].shape[0]\n",
    "binary_ztest(s_old, n_old, s_new, n_new, \"Конверсия в разовую покупку\")\n",
    "\n",
    "# Тест 3: Конверсия подписчиков в разовую покупку\n",
    "sub_only = pivot[pivot[\"subscribed\"]]\n",
    "s_old = sub_only[(sub_only[\"Group\"] == \"Old\") & (sub_only[\"purchased\"])].shape[0]\n",
    "n_old = sub_only[sub_only[\"Group\"] == \"Old\"].shape[0]\n",
    "s_new = sub_only[(sub_only[\"Group\"] == \"New\") & (sub_only[\"purchased\"])].shape[0]\n",
    "n_new = sub_only[sub_only[\"Group\"] == \"New\"].shape[0]\n",
    "binary_ztest(s_old, n_old, s_new, n_new, \"Конверсия подписчиков в разовую покупку\")"
   ]
  },
  {
   "cell_type": "markdown",
   "id": "63e57a35-cc48-4b89-aff7-3c34d02395b2",
   "metadata": {},
   "source": [
    "## Результаты"
   ]
  },
  {
   "cell_type": "markdown",
   "id": "ccf5dc7d-1d04-498a-9209-f59a96a91f53",
   "metadata": {},
   "source": [
    "Снижение цены подписки дало колоссальный рост конверсии. Мы увидели рост почти в 2.5 раза. Это статистически значимо и коммерчески мощно. \n",
    "\n",
    "В дальнейшем стоит раскатить это на всех пользователей. Стоит посчитать Ltv - возможно такая цена нам даст в дальнейшем большую выручку. "
   ]
  },
  {
   "cell_type": "code",
   "execution_count": null,
   "id": "12fdafb0-dd9f-4149-99e6-7a566b70e271",
   "metadata": {},
   "outputs": [],
   "source": []
  }
 ],
 "metadata": {
  "kernelspec": {
   "display_name": "Python 3 (ipykernel)",
   "language": "python",
   "name": "python3"
  },
  "language_info": {
   "codemirror_mode": {
    "name": "ipython",
    "version": 3
   },
   "file_extension": ".py",
   "mimetype": "text/x-python",
   "name": "python",
   "nbconvert_exporter": "python",
   "pygments_lexer": "ipython3",
   "version": "3.12.3"
  }
 },
 "nbformat": 4,
 "nbformat_minor": 5
}
